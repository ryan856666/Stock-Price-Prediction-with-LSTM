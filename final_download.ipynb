{
 "cells": [
  {
   "cell_type": "code",
   "execution_count": 1,
   "metadata": {
    "_cell_guid": "b1076dfc-b9ad-4769-8c92-a6c4dae69d19",
    "_uuid": "8f2839f25d086af736a60e9eeb907d3b93b6e0e5",
    "execution": {
     "iopub.execute_input": "2025-03-22T11:50:11.134075Z",
     "iopub.status.busy": "2025-03-22T11:50:11.133765Z",
     "iopub.status.idle": "2025-03-22T11:50:12.542296Z",
     "shell.execute_reply": "2025-03-22T11:50:12.541214Z",
     "shell.execute_reply.started": "2025-03-22T11:50:11.134038Z"
    }
   },
   "outputs": [
    {
     "name": "stdout",
     "output_type": "stream",
     "text": [
      "/kaggle/input/playing-the-stock-market-is-a-fools-game/sample_submission.csv\n",
      "/kaggle/input/playing-the-stock-market-is-a-fools-game/train.csv\n",
      "/kaggle/input/sympy-1-13-3/sympy-1.13.3-py3-none-any.whl\n",
      "/kaggle/input/captum/captum-0.7.0-py3-none-any.whl\n"
     ]
    }
   ],
   "source": [
    "# This Python 3 environment comes with many helpful analytics libraries installed\n",
    "# It is defined by the kaggle/python Docker image: https://github.com/kaggle/docker-python\n",
    "# For example, here's several helpful packages to load\n",
    "\n",
    "import numpy as np # linear algebra\n",
    "import pandas as pd # data processing, CSV file I/O (e.g. pd.read_csv)\n",
    "\n",
    "# Input data files are available in the read-only \"../input/\" directory\n",
    "# For example, running this (by clicking run or pressing Shift+Enter) will list all files under the input directory\n",
    "\n",
    "import os\n",
    "for dirname, _, filenames in os.walk('/kaggle/input'):\n",
    "    for filename in filenames:\n",
    "        print(os.path.join(dirname, filename))\n",
    "\n",
    "# You can write up to 20GB to the current directory (/kaggle/working/) that gets preserved as output when you create a version using \"Save & Run All\" \n",
    "# You can also write temporary files to /kaggle/temp/, but they won't be saved outside of the current session"
   ]
  },
  {
   "cell_type": "markdown",
   "metadata": {},
   "source": [
    "**Python Environment and Base Dependencies**\n",
    "\n",
    "Introducing a range of commonly used libraries\n",
    "\n",
    "1. Overview of library functions\n",
    "\n",
    "NumPy: Provides multi-dimensional array objects and various numerical calculation functions\n",
    "\n",
    "OS : Provides the ability to interact with the operating system\n",
    "\n",
    "PyTorch(torch、torch.nn、torch.nn.functional、torch.optim):\n",
    "torch: provides core functionality such as tensor operations, auto-differentiation, etc.\n",
    "\n",
    "torch.nn: encapsulates commonly used neural network layers and model components.\n",
    "\n",
    "torch.nn.functional: provides the functional API corresponding to the torch.nn module.\n",
    "\n",
    "torch.optim: provides commonly used optimisation algorithms, such as SGD, Adam and so on.\n",
    "    \n",
    "Matplotlib: Commonly used drawing libraries\n",
    "\n",
    "Seaborn: Commonly used for statistical data visualisation\n",
    "\n",
    "Pandas: Commonly used for data processing and analysis\n",
    "\n",
    "2. GPU device settings\n",
    "\n",
    "A simple use_cuda switch with system detection ensures that the GPU is used for acceleration when the environment allows it."
   ]
  },
  {
   "cell_type": "code",
   "execution_count": 2,
   "metadata": {
    "execution": {
     "iopub.execute_input": "2025-03-22T11:50:15.368584Z",
     "iopub.status.busy": "2025-03-22T11:50:15.368258Z",
     "iopub.status.idle": "2025-03-22T11:50:21.968330Z",
     "shell.execute_reply": "2025-03-22T11:50:21.967159Z",
     "shell.execute_reply.started": "2025-03-22T11:50:15.368557Z"
    }
   },
   "outputs": [],
   "source": [
    "%matplotlib inline\n",
    "\n",
    "# Common imports\n",
    "import numpy as np\n",
    "import os\n",
    "import torch\n",
    "import torch.nn as nn\n",
    "import torch.nn.functional as F\n",
    "import torch.optim as optim\n",
    "\n",
    "import matplotlib.pyplot as plt\n",
    "import seaborn as sns\n",
    "import pandas as pd\n",
    "use_cuda = False\n",
    "device = torch.device(\"cuda\" if (use_cuda and torch.cuda.is_available()) else \"cpu\")"
   ]
  },
  {
   "cell_type": "markdown",
   "metadata": {},
   "source": [
    "**Data reading and visualisation configuration**\n",
    "1. Overview of library features\n",
    "\n",
    "dateutil.parser (parse): Provides date parsing functionality, converting dates in string format to datetime objects for subsequent time series analysis.\n",
    "\n",
    "Matplotlib (matplotlib, matplotlib.pyplot): one of the most commonly used plotting libraries in Python, can be used to generate various types of charts.\n",
    "\n",
    "Seaborn (sns): Simplifies the plotting code and provides better looking default styles.\n",
    "\n",
    "NumPy (np): Provides multi-dimensional array objects and common numerical computation methods.\n",
    "\n",
    "Pandas (pd): mainly used for data processing and analysis.\n",
    "\n",
    "2. Visual configuration\n",
    "\n",
    "figure.figsize: control the size of the drawing window.\n",
    "\n",
    "figure.dpi: control the drawing resolution, the higher the value the clearer the image.\n",
    "\n",
    "3. Data reading\n",
    "\n",
    "pd.read_csv(): read CSV format data from the specified path and convert it to DataFrame of Pandas.\n",
    "\n",
    "df.head(): view the first five rows of data, a quick understanding of the data structure and field distribution."
   ]
  },
  {
   "cell_type": "code",
   "execution_count": 3,
   "metadata": {
    "execution": {
     "iopub.execute_input": "2025-03-22T11:50:44.126547Z",
     "iopub.status.busy": "2025-03-22T11:50:44.125905Z",
     "iopub.status.idle": "2025-03-22T11:50:44.631121Z",
     "shell.execute_reply": "2025-03-22T11:50:44.629697Z",
     "shell.execute_reply.started": "2025-03-22T11:50:44.126514Z"
    }
   },
   "outputs": [
    {
     "data": {
      "text/html": [
       "<div>\n",
       "<style scoped>\n",
       "    .dataframe tbody tr th:only-of-type {\n",
       "        vertical-align: middle;\n",
       "    }\n",
       "\n",
       "    .dataframe tbody tr th {\n",
       "        vertical-align: top;\n",
       "    }\n",
       "\n",
       "    .dataframe thead th {\n",
       "        text-align: right;\n",
       "    }\n",
       "</style>\n",
       "<table border=\"1\" class=\"dataframe\">\n",
       "  <thead>\n",
       "    <tr style=\"text-align: right;\">\n",
       "      <th></th>\n",
       "      <th>ID</th>\n",
       "      <th>05/04/2010</th>\n",
       "      <th>06/04/2010</th>\n",
       "      <th>07/04/2010</th>\n",
       "      <th>08/04/2010</th>\n",
       "      <th>09/04/2010</th>\n",
       "      <th>12/04/2010</th>\n",
       "      <th>13/04/2010</th>\n",
       "      <th>14/04/2010</th>\n",
       "      <th>15/04/2010</th>\n",
       "      <th>...</th>\n",
       "      <th>18/03/2022</th>\n",
       "      <th>21/03/2022</th>\n",
       "      <th>22/03/2022</th>\n",
       "      <th>23/03/2022</th>\n",
       "      <th>24/03/2022</th>\n",
       "      <th>25/03/2022</th>\n",
       "      <th>28/03/2022</th>\n",
       "      <th>29/03/2022</th>\n",
       "      <th>30/03/2022</th>\n",
       "      <th>31/03/2022</th>\n",
       "    </tr>\n",
       "  </thead>\n",
       "  <tbody>\n",
       "    <tr>\n",
       "      <th>0</th>\n",
       "      <td>company_0</td>\n",
       "      <td>1.30</td>\n",
       "      <td>0.19</td>\n",
       "      <td>0.46</td>\n",
       "      <td>-0.23</td>\n",
       "      <td>1.20</td>\n",
       "      <td>-0.26</td>\n",
       "      <td>-0.34</td>\n",
       "      <td>1.64</td>\n",
       "      <td>1.21</td>\n",
       "      <td>...</td>\n",
       "      <td>-0.36</td>\n",
       "      <td>0.05</td>\n",
       "      <td>0.30</td>\n",
       "      <td>-3.10</td>\n",
       "      <td>0.04</td>\n",
       "      <td>0.86</td>\n",
       "      <td>0.31</td>\n",
       "      <td>0.95</td>\n",
       "      <td>0.68</td>\n",
       "      <td>-0.52</td>\n",
       "    </tr>\n",
       "    <tr>\n",
       "      <th>1</th>\n",
       "      <td>company_1</td>\n",
       "      <td>-0.83</td>\n",
       "      <td>0.62</td>\n",
       "      <td>-2.74</td>\n",
       "      <td>6.33</td>\n",
       "      <td>1.32</td>\n",
       "      <td>4.52</td>\n",
       "      <td>0.05</td>\n",
       "      <td>3.94</td>\n",
       "      <td>5.01</td>\n",
       "      <td>...</td>\n",
       "      <td>2.20</td>\n",
       "      <td>-3.67</td>\n",
       "      <td>3.20</td>\n",
       "      <td>-1.61</td>\n",
       "      <td>2.92</td>\n",
       "      <td>0.93</td>\n",
       "      <td>1.55</td>\n",
       "      <td>3.96</td>\n",
       "      <td>0.41</td>\n",
       "      <td>1.08</td>\n",
       "    </tr>\n",
       "    <tr>\n",
       "      <th>2</th>\n",
       "      <td>company_2</td>\n",
       "      <td>-0.02</td>\n",
       "      <td>0.13</td>\n",
       "      <td>-0.70</td>\n",
       "      <td>0.23</td>\n",
       "      <td>1.50</td>\n",
       "      <td>-0.23</td>\n",
       "      <td>1.35</td>\n",
       "      <td>2.26</td>\n",
       "      <td>0.37</td>\n",
       "      <td>...</td>\n",
       "      <td>-0.16</td>\n",
       "      <td>-0.74</td>\n",
       "      <td>2.52</td>\n",
       "      <td>-2.06</td>\n",
       "      <td>1.57</td>\n",
       "      <td>0.10</td>\n",
       "      <td>0.90</td>\n",
       "      <td>3.05</td>\n",
       "      <td>-1.24</td>\n",
       "      <td>-1.26</td>\n",
       "    </tr>\n",
       "    <tr>\n",
       "      <th>3</th>\n",
       "      <td>company_3</td>\n",
       "      <td>-1.10</td>\n",
       "      <td>-0.73</td>\n",
       "      <td>-2.98</td>\n",
       "      <td>1.98</td>\n",
       "      <td>3.00</td>\n",
       "      <td>1.01</td>\n",
       "      <td>3.60</td>\n",
       "      <td>4.30</td>\n",
       "      <td>1.05</td>\n",
       "      <td>...</td>\n",
       "      <td>2.47</td>\n",
       "      <td>-2.41</td>\n",
       "      <td>1.10</td>\n",
       "      <td>-4.08</td>\n",
       "      <td>2.09</td>\n",
       "      <td>2.02</td>\n",
       "      <td>2.74</td>\n",
       "      <td>2.33</td>\n",
       "      <td>0.80</td>\n",
       "      <td>-0.91</td>\n",
       "    </tr>\n",
       "    <tr>\n",
       "      <th>4</th>\n",
       "      <td>company_4</td>\n",
       "      <td>2.23</td>\n",
       "      <td>-1.45</td>\n",
       "      <td>-1.74</td>\n",
       "      <td>-1.13</td>\n",
       "      <td>0.80</td>\n",
       "      <td>1.29</td>\n",
       "      <td>0.62</td>\n",
       "      <td>3.06</td>\n",
       "      <td>-0.73</td>\n",
       "      <td>...</td>\n",
       "      <td>1.28</td>\n",
       "      <td>-1.96</td>\n",
       "      <td>0.19</td>\n",
       "      <td>-2.28</td>\n",
       "      <td>-1.13</td>\n",
       "      <td>-1.53</td>\n",
       "      <td>-0.64</td>\n",
       "      <td>2.32</td>\n",
       "      <td>-1.64</td>\n",
       "      <td>-4.58</td>\n",
       "    </tr>\n",
       "  </tbody>\n",
       "</table>\n",
       "<p>5 rows × 3022 columns</p>\n",
       "</div>"
      ],
      "text/plain": [
       "          ID  05/04/2010  06/04/2010  07/04/2010  08/04/2010  09/04/2010  \\\n",
       "0  company_0        1.30        0.19        0.46       -0.23        1.20   \n",
       "1  company_1       -0.83        0.62       -2.74        6.33        1.32   \n",
       "2  company_2       -0.02        0.13       -0.70        0.23        1.50   \n",
       "3  company_3       -1.10       -0.73       -2.98        1.98        3.00   \n",
       "4  company_4        2.23       -1.45       -1.74       -1.13        0.80   \n",
       "\n",
       "   12/04/2010  13/04/2010  14/04/2010  15/04/2010  ...  18/03/2022  \\\n",
       "0       -0.26       -0.34        1.64        1.21  ...       -0.36   \n",
       "1        4.52        0.05        3.94        5.01  ...        2.20   \n",
       "2       -0.23        1.35        2.26        0.37  ...       -0.16   \n",
       "3        1.01        3.60        4.30        1.05  ...        2.47   \n",
       "4        1.29        0.62        3.06       -0.73  ...        1.28   \n",
       "\n",
       "   21/03/2022  22/03/2022  23/03/2022  24/03/2022  25/03/2022  28/03/2022  \\\n",
       "0        0.05        0.30       -3.10        0.04        0.86        0.31   \n",
       "1       -3.67        3.20       -1.61        2.92        0.93        1.55   \n",
       "2       -0.74        2.52       -2.06        1.57        0.10        0.90   \n",
       "3       -2.41        1.10       -4.08        2.09        2.02        2.74   \n",
       "4       -1.96        0.19       -2.28       -1.13       -1.53       -0.64   \n",
       "\n",
       "   29/03/2022  30/03/2022  31/03/2022  \n",
       "0        0.95        0.68       -0.52  \n",
       "1        3.96        0.41        1.08  \n",
       "2        3.05       -1.24       -1.26  \n",
       "3        2.33        0.80       -0.91  \n",
       "4        2.32       -1.64       -4.58  \n",
       "\n",
       "[5 rows x 3022 columns]"
      ]
     },
     "execution_count": 3,
     "metadata": {},
     "output_type": "execute_result"
    }
   ],
   "source": [
    "from dateutil.parser import parse\n",
    "import matplotlib as mpl\n",
    "import matplotlib.pyplot as plt\n",
    "import seaborn as sns\n",
    "import numpy as np\n",
    "import pandas as pd\n",
    "plt.rcParams.update({'figure.figsize': (10, 7), 'figure.dpi': 120})\n",
    "\n",
    "df = pd.read_csv('/kaggle/input/playing-the-stock-market-is-a-fools-game/train.csv')\n",
    "df.head()\n"
   ]
  },
  {
   "cell_type": "code",
   "execution_count": 4,
   "metadata": {
    "execution": {
     "iopub.execute_input": "2025-03-22T11:50:47.548107Z",
     "iopub.status.busy": "2025-03-22T11:50:47.547664Z",
     "iopub.status.idle": "2025-03-22T11:50:47.594625Z",
     "shell.execute_reply": "2025-03-22T11:50:47.593571Z",
     "shell.execute_reply.started": "2025-03-22T11:50:47.548077Z"
    }
   },
   "outputs": [
    {
     "data": {
      "text/html": [
       "<div>\n",
       "<style scoped>\n",
       "    .dataframe tbody tr th:only-of-type {\n",
       "        vertical-align: middle;\n",
       "    }\n",
       "\n",
       "    .dataframe tbody tr th {\n",
       "        vertical-align: top;\n",
       "    }\n",
       "\n",
       "    .dataframe thead th {\n",
       "        text-align: right;\n",
       "    }\n",
       "</style>\n",
       "<table border=\"1\" class=\"dataframe\">\n",
       "  <thead>\n",
       "    <tr style=\"text-align: right;\">\n",
       "      <th>ID</th>\n",
       "      <th>date</th>\n",
       "      <th>company_0</th>\n",
       "      <th>company_1</th>\n",
       "      <th>company_2</th>\n",
       "      <th>company_3</th>\n",
       "      <th>company_4</th>\n",
       "      <th>company_5</th>\n",
       "      <th>company_6</th>\n",
       "      <th>company_7</th>\n",
       "      <th>company_8</th>\n",
       "      <th>...</th>\n",
       "      <th>company_432</th>\n",
       "      <th>company_433</th>\n",
       "      <th>company_434</th>\n",
       "      <th>company_435</th>\n",
       "      <th>company_436</th>\n",
       "      <th>company_437</th>\n",
       "      <th>company_438</th>\n",
       "      <th>company_439</th>\n",
       "      <th>company_440</th>\n",
       "      <th>company_441</th>\n",
       "    </tr>\n",
       "  </thead>\n",
       "  <tbody>\n",
       "    <tr>\n",
       "      <th>0</th>\n",
       "      <td>2010-04-05</td>\n",
       "      <td>1.30</td>\n",
       "      <td>-0.83</td>\n",
       "      <td>-0.02</td>\n",
       "      <td>-1.10</td>\n",
       "      <td>2.23</td>\n",
       "      <td>0.99</td>\n",
       "      <td>2.05</td>\n",
       "      <td>2.32</td>\n",
       "      <td>1.02</td>\n",
       "      <td>...</td>\n",
       "      <td>1.16</td>\n",
       "      <td>1.70</td>\n",
       "      <td>0.52</td>\n",
       "      <td>0.21</td>\n",
       "      <td>1.34</td>\n",
       "      <td>-2.22</td>\n",
       "      <td>2.29</td>\n",
       "      <td>1.51</td>\n",
       "      <td>-2.45</td>\n",
       "      <td>0.00</td>\n",
       "    </tr>\n",
       "    <tr>\n",
       "      <th>1</th>\n",
       "      <td>2010-04-06</td>\n",
       "      <td>0.19</td>\n",
       "      <td>0.62</td>\n",
       "      <td>0.13</td>\n",
       "      <td>-0.73</td>\n",
       "      <td>-1.45</td>\n",
       "      <td>0.47</td>\n",
       "      <td>-1.08</td>\n",
       "      <td>-0.24</td>\n",
       "      <td>0.49</td>\n",
       "      <td>...</td>\n",
       "      <td>0.21</td>\n",
       "      <td>2.51</td>\n",
       "      <td>0.05</td>\n",
       "      <td>-0.25</td>\n",
       "      <td>0.18</td>\n",
       "      <td>-0.84</td>\n",
       "      <td>-0.26</td>\n",
       "      <td>0.94</td>\n",
       "      <td>-3.75</td>\n",
       "      <td>0.98</td>\n",
       "    </tr>\n",
       "    <tr>\n",
       "      <th>2</th>\n",
       "      <td>2010-04-07</td>\n",
       "      <td>0.46</td>\n",
       "      <td>-2.74</td>\n",
       "      <td>-0.70</td>\n",
       "      <td>-2.98</td>\n",
       "      <td>-1.74</td>\n",
       "      <td>-0.59</td>\n",
       "      <td>-1.00</td>\n",
       "      <td>-0.67</td>\n",
       "      <td>-1.97</td>\n",
       "      <td>...</td>\n",
       "      <td>-0.65</td>\n",
       "      <td>-2.14</td>\n",
       "      <td>0.62</td>\n",
       "      <td>-0.71</td>\n",
       "      <td>-0.42</td>\n",
       "      <td>-1.55</td>\n",
       "      <td>0.75</td>\n",
       "      <td>0.12</td>\n",
       "      <td>0.24</td>\n",
       "      <td>-1.38</td>\n",
       "    </tr>\n",
       "    <tr>\n",
       "      <th>3</th>\n",
       "      <td>2010-04-08</td>\n",
       "      <td>-0.23</td>\n",
       "      <td>6.33</td>\n",
       "      <td>0.23</td>\n",
       "      <td>1.98</td>\n",
       "      <td>-1.13</td>\n",
       "      <td>-0.05</td>\n",
       "      <td>0.14</td>\n",
       "      <td>-0.12</td>\n",
       "      <td>-0.25</td>\n",
       "      <td>...</td>\n",
       "      <td>-0.42</td>\n",
       "      <td>0.99</td>\n",
       "      <td>-0.46</td>\n",
       "      <td>0.58</td>\n",
       "      <td>-0.42</td>\n",
       "      <td>1.47</td>\n",
       "      <td>-1.31</td>\n",
       "      <td>0.80</td>\n",
       "      <td>2.71</td>\n",
       "      <td>-0.61</td>\n",
       "    </tr>\n",
       "    <tr>\n",
       "      <th>4</th>\n",
       "      <td>2010-04-09</td>\n",
       "      <td>1.20</td>\n",
       "      <td>1.32</td>\n",
       "      <td>1.50</td>\n",
       "      <td>3.00</td>\n",
       "      <td>0.80</td>\n",
       "      <td>2.10</td>\n",
       "      <td>1.99</td>\n",
       "      <td>1.70</td>\n",
       "      <td>0.99</td>\n",
       "      <td>...</td>\n",
       "      <td>1.83</td>\n",
       "      <td>2.28</td>\n",
       "      <td>0.21</td>\n",
       "      <td>2.17</td>\n",
       "      <td>0.86</td>\n",
       "      <td>0.42</td>\n",
       "      <td>1.04</td>\n",
       "      <td>0.80</td>\n",
       "      <td>0.75</td>\n",
       "      <td>-0.07</td>\n",
       "    </tr>\n",
       "  </tbody>\n",
       "</table>\n",
       "<p>5 rows × 443 columns</p>\n",
       "</div>"
      ],
      "text/plain": [
       "ID       date  company_0  company_1  company_2  company_3  company_4  \\\n",
       "0  2010-04-05       1.30      -0.83      -0.02      -1.10       2.23   \n",
       "1  2010-04-06       0.19       0.62       0.13      -0.73      -1.45   \n",
       "2  2010-04-07       0.46      -2.74      -0.70      -2.98      -1.74   \n",
       "3  2010-04-08      -0.23       6.33       0.23       1.98      -1.13   \n",
       "4  2010-04-09       1.20       1.32       1.50       3.00       0.80   \n",
       "\n",
       "ID  company_5  company_6  company_7  company_8  ...  company_432  company_433  \\\n",
       "0        0.99       2.05       2.32       1.02  ...         1.16         1.70   \n",
       "1        0.47      -1.08      -0.24       0.49  ...         0.21         2.51   \n",
       "2       -0.59      -1.00      -0.67      -1.97  ...        -0.65        -2.14   \n",
       "3       -0.05       0.14      -0.12      -0.25  ...        -0.42         0.99   \n",
       "4        2.10       1.99       1.70       0.99  ...         1.83         2.28   \n",
       "\n",
       "ID  company_434  company_435  company_436  company_437  company_438  \\\n",
       "0          0.52         0.21         1.34        -2.22         2.29   \n",
       "1          0.05        -0.25         0.18        -0.84        -0.26   \n",
       "2          0.62        -0.71        -0.42        -1.55         0.75   \n",
       "3         -0.46         0.58        -0.42         1.47        -1.31   \n",
       "4          0.21         2.17         0.86         0.42         1.04   \n",
       "\n",
       "ID  company_439  company_440  company_441  \n",
       "0          1.51        -2.45         0.00  \n",
       "1          0.94        -3.75         0.98  \n",
       "2          0.12         0.24        -1.38  \n",
       "3          0.80         2.71        -0.61  \n",
       "4          0.80         0.75        -0.07  \n",
       "\n",
       "[5 rows x 443 columns]"
      ]
     },
     "execution_count": 4,
     "metadata": {},
     "output_type": "execute_result"
    }
   ],
   "source": [
    "df.set_index('ID', inplace=True)\n",
    "df = df.T\n",
    "df.index = pd.to_datetime(df.index, format=\"%d/%m/%Y\") \n",
    "df.reset_index(inplace=True)\n",
    "df.rename(columns={'index': 'date'}, inplace=True)\n",
    "\n",
    "df.head()"
   ]
  },
  {
   "cell_type": "markdown",
   "metadata": {},
   "source": [
    "**Time series data preprocessing and dataset construction**\n",
    "\n",
    "1. Data scaling\n",
    "\n",
    "Use MinMaxScaler to normalise multi-column features to prevent scale differences from affecting model training.\n",
    "\n",
    "2. Custom Dataset\n",
    "\n",
    "TimeSeriesDataset divides the time series into (x, y) pairs, where x is the length of the window_size and y is the target at the next moment.\n",
    "\n",
    "3. Divide the training/validation set\n",
    "\n",
    "According to train_ratio, divide the data into training set and validation set, and create TimeSeriesDataset instances respectively.\n",
    "\n",
    "4. Data Loader\n",
    "\n",
    "Use DataLoader (e.g. batch_size=32) to read data in batch for subsequent model training.\n",
    "\n"
   ]
  },
  {
   "cell_type": "code",
   "execution_count": 5,
   "metadata": {
    "execution": {
     "iopub.execute_input": "2025-03-22T11:50:51.135733Z",
     "iopub.status.busy": "2025-03-22T11:50:51.135270Z",
     "iopub.status.idle": "2025-03-22T11:50:51.664493Z",
     "shell.execute_reply": "2025-03-22T11:50:51.663286Z",
     "shell.execute_reply.started": "2025-03-22T11:50:51.135681Z"
    }
   },
   "outputs": [],
   "source": [
    "import sklearn\n",
    "from sklearn.preprocessing import MinMaxScaler\n",
    "from torch.utils.data import Dataset, DataLoader\n",
    "import optuna\n",
    "\n",
    "scaler = MinMaxScaler()\n",
    "scaler.fit(df.iloc[:, 1:].values)\n",
    "\n",
    "df_scaled = scaler.transform(df.iloc[:, 1:].values)\n",
    "df_scaled = pd.DataFrame(df_scaled, columns=df.columns[1:], index=df['date'])\n",
    "\n",
    "class TimeSeriesDataset(Dataset):\n",
    "    def __init__(self, data, window_size):\n",
    "        self.data = data\n",
    "        self.window_size = window_size\n",
    "\n",
    "    def __len__(self):\n",
    "        return len(self.data) - self.window_size\n",
    "\n",
    "    def __getitem__(self, index):\n",
    "        x = self.data[index:index+self.window_size, :]\n",
    "        y = self.data[index+self.window_size, :]\n",
    "        return torch.tensor(x, dtype=torch.float32), torch.tensor(y, dtype=torch.float32)\n",
    "window_size = 60\n",
    "train_ratio = 0.8\n",
    "\n",
    "split_idx = int(len(df_scaled) * train_ratio)\n",
    "train_data = df_scaled.iloc[:split_idx].values \n",
    "val_data = df_scaled.iloc[split_idx:].values\n",
    "\n",
    "train_dataset = TimeSeriesDataset(train_data, window_size)\n",
    "val_dataset = TimeSeriesDataset(val_data, window_size)\n",
    "\n",
    "# train_loader = DataLoader(train_dataset, batch_size=32, shuffle=True)\n",
    "# val_loader = DataLoader(val_dataset, batch_size=32, shuffle=False)"
   ]
  },
  {
   "cell_type": "markdown",
   "metadata": {},
   "source": [
    "**Data loaders function get_data_loaders**\n",
    "\n",
    "1. Define functions\n",
    "\n",
    "Encapsulate the data loading process and unify the handling of slicing, building datasets and loaders.\n",
    "\n",
    "2. Split training/validation set\n",
    "\n",
    "Slices the data proportionally into training and validation sets based on train_ratio.\n",
    "\n",
    "3. Build Dataset\n",
    "\n",
    "Pack the sliced data into sliding window (x, y) using TimeSeriesDataset.\n",
    "\n",
    "4. Create DataLoader\n",
    "\n",
    "Use the DataLoader to batch read the data:\n",
    "\n",
    "Training Set setting shuffle=True\n",
    "\n",
    "Validation set shuffle=False"
   ]
  },
  {
   "cell_type": "code",
   "execution_count": 6,
   "metadata": {
    "execution": {
     "iopub.execute_input": "2025-03-22T11:50:55.431571Z",
     "iopub.status.busy": "2025-03-22T11:50:55.431181Z",
     "iopub.status.idle": "2025-03-22T11:50:55.438552Z",
     "shell.execute_reply": "2025-03-22T11:50:55.437087Z",
     "shell.execute_reply.started": "2025-03-22T11:50:55.431544Z"
    }
   },
   "outputs": [],
   "source": [
    "def get_data_loaders(df_scaled, window_size=60, batch_size=32, train_ratio=0.8):\n",
    "\n",
    "    data_values = df_scaled.values if hasattr(df_scaled, 'values') else df_scaled\n",
    "\n",
    "    split_idx = int(len(data_values) * train_ratio)\n",
    "    train_data = data_values[:split_idx]\n",
    "    val_data   = data_values[split_idx:]\n",
    "\n",
    "    train_dataset = TimeSeriesDataset(train_data, window_size)\n",
    "    val_dataset   = TimeSeriesDataset(val_data, window_size)\n",
    "\n",
    "    train_loader = DataLoader(train_dataset, batch_size=batch_size, shuffle=True)\n",
    "    val_loader   = DataLoader(val_dataset, batch_size=batch_size, shuffle=False)\n",
    "\n",
    "    return train_loader, val_loader"
   ]
  },
  {
   "cell_type": "markdown",
   "metadata": {},
   "source": [
    "**Constructing LSTM time series prediction models**\n",
    "\n",
    "1. Defining the model structure\n",
    "\n",
    "Define the LSTM model using PyTorch, encapsulated and returned in the create_model function.\n",
    "\n",
    "\n",
    "2. LSTM network\n",
    "\n",
    "Construct the time series processing layer using nn.LSTM:\n",
    "\n",
    "input_dim: input feature dimension\n",
    "\n",
    "latent_dim: dimension of hidden states\n",
    "\n",
    "num_layers: number of LSTM stacked layers\n",
    "\n",
    "dropout: dropout between layers (default 0)\n",
    "    \n",
    "3. Fully connected output layer\n",
    "\n",
    "Construct the output layer using nn.Sequential:\n",
    "\n",
    "Includes ReLU activation\n",
    "\n",
    "Linear layer maps hidden states into output_dim dimensions\n",
    "\n",
    "4. Forward propagation logic\n",
    "\n",
    "Take the output of the last time step of the LSTM as the feature\n",
    "\n",
    "Input the fully connected layer to get the final prediction\n",
    "\n"
   ]
  },
  {
   "cell_type": "code",
   "execution_count": 7,
   "metadata": {
    "execution": {
     "iopub.execute_input": "2025-03-22T11:50:58.165436Z",
     "iopub.status.busy": "2025-03-22T11:50:58.165041Z",
     "iopub.status.idle": "2025-03-22T11:50:58.172371Z",
     "shell.execute_reply": "2025-03-22T11:50:58.171067Z",
     "shell.execute_reply.started": "2025-03-22T11:50:58.165405Z"
    }
   },
   "outputs": [],
   "source": [
    "def create_model(input_dim, latent_dim, output_dim, num_layers,dropout=0.0):\n",
    "    class Net(nn.Module):\n",
    "        def __init__(self):\n",
    "            super(Net, self).__init__()\n",
    "            self.input_dim  = input_dim \n",
    "            self.hidden_dim = latent_dim\n",
    "            self.num_layers = num_layers\n",
    "            self.lstm   = nn.LSTM(input_dim, latent_dim, num_layers, batch_first=True, dropout=dropout)\n",
    "            # self.linear = nn.Linear(latent_dim, output_dim) \n",
    "            self.linear = nn.Sequential(\n",
    "                nn.ReLU(), \n",
    "                nn.Linear(latent_dim, output_dim)\n",
    ")\n",
    "        def forward(self, x):\n",
    "            y, _ = self.lstm(x)\n",
    "            y = self.linear(y[:, -1, :]) \n",
    "            return y \n",
    "\n",
    "    return Net()"
   ]
  },
  {
   "cell_type": "markdown",
   "metadata": {},
   "source": [
    "**LSTM hyperparameter optimisation using Optuna**\n",
    "\n",
    "1. Import libraries\n",
    "\n",
    "Introduces optuna for hyperparameter search and torch for model construction and training.\n",
    "\n",
    "2. Define the optimisation objective function\n",
    "\n",
    "Used by optuna to perform multiple trials to automatically find the optimal combination of hyperparameters.\n",
    "\n",
    "Returns the validation set loss val_loss as an evaluation metric.\n",
    "\n",
    "3. Hyperparametric search space\n",
    "\n",
    "Use trial.suggest_ to define the search scope:\n",
    "\n",
    "optimizer: optimiser type (SGD, Adam, AdamW, RMSprop)\n",
    "\n",
    "atent_dim: LSTM latent dimensions (16 ~ 128)\n",
    "\n",
    "num_layers: number of LSTM layers (1 ~ 3)\n",
    "\n",
    "lr: learning rate (logarithmic sampling, 1e-4 ~ 5e-4)\n",
    "\n",
    "window_size: time window size (30 ~ 60)\n",
    "\n",
    "dropout: dropout ratio (0 ~ 0.5)\n",
    "\n",
    "4. Model and optimiser creation\n",
    "\n",
    "Construct a model based on the hyperparameters of the current experiment and select the corresponding optimiser:\n",
    "\n",
    "5. Data loading and training\n",
    "\n",
    "Construct training/validation set using current window_size\n",
    "\n",
    "Train the model, evaluate and return the validation set loss\n"
   ]
  },
  {
   "cell_type": "code",
   "execution_count": 8,
   "metadata": {
    "execution": {
     "iopub.execute_input": "2025-03-22T11:51:00.804395Z",
     "iopub.status.busy": "2025-03-22T11:51:00.803947Z",
     "iopub.status.idle": "2025-03-22T11:51:00.813359Z",
     "shell.execute_reply": "2025-03-22T11:51:00.811958Z",
     "shell.execute_reply.started": "2025-03-22T11:51:00.804359Z"
    }
   },
   "outputs": [],
   "source": [
    "import optuna\n",
    "import torch\n",
    "import torch.nn as nn\n",
    "import torch.optim as optim\n",
    "\n",
    "def objective(trial):\n",
    "    optimizer_name = trial.suggest_categorical(\"optimizer\", [\"SGD\", \"RMSprop\", \"AdamW\", \"Adam\"])\n",
    "    \n",
    "    latent_dim = trial.suggest_int(\"latent_dim\", 16, 128)  \n",
    "    num_layers = trial.suggest_int(\"num_layers\", 1, 3)  \n",
    "    lr = trial.suggest_float(\"lr\", 1e-4, 5e-4, log=True) \n",
    "    window_size = trial.suggest_int(\"window_size\", 30, 60)\n",
    "    dropout = trial.suggest_float(\"dropout\", 0.0, 0.5)\n",
    "    train_loader, val_loader = get_data_loaders(df_scaled, window_size=window_size, batch_size=32, train_ratio=0.8)\n",
    "\n",
    "    model = create_model(input_dim=num_features, latent_dim=latent_dim, \n",
    "                         output_dim=num_features, num_layers=num_layers)\n",
    "    model = model.to(device)\n",
    "\n",
    "    if optimizer_name == \"SGD\":\n",
    "        optimizer = optim.SGD(model.parameters(), lr=lr, momentum=0.9)\n",
    "    elif optimizer_name == \"RMSprop\":\n",
    "        optimizer = optim.RMSprop(model.parameters(), lr=lr)\n",
    "    elif optimizer_name == \"AdamW\":\n",
    "        optimizer = optim.AdamW(model.parameters(), lr=lr)\n",
    "    elif optimizer_name == \"Adam\":\n",
    "        optimizer = optim.Adam(model.parameters(), lr=lr)\n",
    "  \n",
    "    # train_loader, val_loader = get_data_loaders(window_size) \n",
    "    # val_loss = train_model_on_sequences(model, train_loader, val_loader, optimizer, epochs=10)\n",
    "    val_loss = train_model_on_sequences(model, train_loader, val_loader, optimizer, epochs=30)\n",
    "\n",
    "    return val_loss  "
   ]
  },
  {
   "cell_type": "markdown",
   "metadata": {},
   "source": [
    "**Training the LSTM model**\n",
    "\n",
    "1. Define the training function\n",
    "\n",
    "train_model_on_sequences is used to train the LSTM model and return the average loss of the validation set.\n",
    "\n",
    "2. loss function and optimiser\n",
    "\n",
    "MSELoss is used as the loss function for the regression task.\n",
    "\n",
    "The optimiser is passed in externally and can be switched flexibly.\n",
    "\n",
    "3. Training process\n",
    "\n",
    "Migrate the model and data to the device (GPU or CPU).\n",
    "\n",
    "Cyclic epochs rounds of training\n",
    "\n",
    "Perform forward propagation, backpropagation, and parameter updates in each round\n",
    "\n",
    "4. Validation and early stopping mechanism\n",
    "\n",
    "Evaluate performance on the validation set after each round of training.\n",
    "\n",
    "Record the optimal result using best_val_loss\n",
    "\n",
    "Early Stopping is triggered if there is no improvement in the validation loss for consecutive patience times\n",
    "\n",
    "5. Print the log\n",
    "\n",
    "Output the training and validation loss every 5 rounds to observe the convergence of the model:\n"
   ]
  },
  {
   "cell_type": "code",
   "execution_count": 9,
   "metadata": {
    "execution": {
     "iopub.execute_input": "2025-03-22T11:51:04.029853Z",
     "iopub.status.busy": "2025-03-22T11:51:04.029416Z",
     "iopub.status.idle": "2025-03-22T11:51:04.039159Z",
     "shell.execute_reply": "2025-03-22T11:51:04.037847Z",
     "shell.execute_reply.started": "2025-03-22T11:51:04.029820Z"
    }
   },
   "outputs": [],
   "source": [
    "def train_model_on_sequences(model, train_loader, val_loader, optimizer ,epochs=50):\n",
    "    criterion = nn.MSELoss()\n",
    "    # optimizer = optim.Adam(model.parameters(), lr=lr)\n",
    "    best_val_loss = float(\"inf\")\n",
    "    patience = 15 \n",
    "    patience_counter = 0\n",
    "    for epoch in range(epochs):\n",
    "        model.train()\n",
    "        train_loss = 0\n",
    "        device = torch.device(\"cuda\" if torch.cuda.is_available() else \"cpu\")\n",
    "        model.to(device)\n",
    "        for X_batch, y_batch in train_loader:\n",
    "            X_batch = X_batch.to(device)\n",
    "            y_batch = y_batch.to(device)\n",
    "\n",
    "            optimizer.zero_grad()\n",
    "            y_pred = model(X_batch)\n",
    "            loss = criterion(y_pred, y_batch)\n",
    "            loss.backward()\n",
    "            optimizer.step()\n",
    "\n",
    "            train_loss += loss.item()\n",
    "            \n",
    "        model.eval()\n",
    "        val_loss = 0\n",
    "        with torch.no_grad():\n",
    "            for X_batch, y_batch in val_loader:\n",
    "                X_batch = X_batch.to(device)\n",
    "                y_batch = y_batch.to(device)\n",
    "\n",
    "                y_pred = model(X_batch)\n",
    "                loss = criterion(y_pred, y_batch)\n",
    "                val_loss += loss.item()\n",
    "        if val_loss < best_val_loss:\n",
    "                best_val_loss = val_loss\n",
    "                patience_counter = 0\n",
    "        else:\n",
    "            patience_counter += 1\n",
    "            if patience_counter >= patience:\n",
    "                print(\"Early stopping\")\n",
    "                break       \n",
    "        if (epoch+1) % 5 == 0:\n",
    "            print(f\"Epoch {epoch+1}/{epochs} - Train Loss: {train_loss:.4f}, Val Loss: {val_loss:.4f}\")    \n",
    "    # print(f\"Epoch {epoch+1}/{epochs}, Train Loss: {train_loss/len(train_loader):.4f}, Val Loss: {val_loss/len(val_loader):.4f}\")\n",
    "    return val_loss / len(val_loader)\n",
    "    \n",
    "    print(\"Training complete.\")\n",
    "    "
   ]
  },
  {
   "cell_type": "markdown",
   "metadata": {},
   "source": [
    "**Hyperparameter optimisation with Optuna**\n",
    "1. Setting the characterisation dimensions\n",
    "\n",
    "Get the number of features of the df_scaled data as input dimensions to the model.\n",
    "\n",
    "3. create Optuna study object\n",
    "\n",
    "direction=‘minimize’: the goal is to minimise the validation loss (val_loss).\n",
    "\n",
    "study is used to manage trials and record the best hyperparameter combinations.\n",
    "\n",
    "5. run hyperparameter search\n",
    "\n",
    "Call the objective function to run 10 rounds of search (n_trials=10).\n",
    "\n",
    "Optuna finds the optimal solution by experimenting with different combinations of hyperparameters.\n",
    "\n",
    "7. Output the optimal hyperparameters\n",
    "\n",
    "After training, print the optimal hyperparameter configuration for model training."
   ]
  },
  {
   "cell_type": "code",
   "execution_count": 17,
   "metadata": {
    "execution": {
     "iopub.execute_input": "2025-03-21T23:39:17.291472Z",
     "iopub.status.busy": "2025-03-21T23:39:17.291091Z",
     "iopub.status.idle": "2025-03-21T23:50:58.778508Z",
     "shell.execute_reply": "2025-03-21T23:50:58.777207Z",
     "shell.execute_reply.started": "2025-03-21T23:39:17.291444Z"
    }
   },
   "outputs": [
    {
     "name": "stderr",
     "output_type": "stream",
     "text": [
      "[I 2025-03-21 23:39:17,292] A new study created in memory with name: no-name-d718300e-d6f8-412d-bd1b-f4b17c2038a1\n"
     ]
    },
    {
     "name": "stdout",
     "output_type": "stream",
     "text": [
      "Epoch 5/30 - Train Loss: 0.1821, Val Loss: 0.1036\n",
      "Epoch 10/30 - Train Loss: 0.1821, Val Loss: 0.1037\n",
      "Epoch 15/30 - Train Loss: 0.1822, Val Loss: 0.1036\n"
     ]
    },
    {
     "name": "stderr",
     "output_type": "stream",
     "text": [
      "[I 2025-03-21 23:40:01,884] Trial 0 finished with value: 0.005761652712761942 and parameters: {'optimizer': 'AdamW', 'latent_dim': 71, 'num_layers': 2, 'lr': 0.0002895605714777007, 'window_size': 34, 'dropout': 0.11726802708287587}. Best is trial 0 with value: 0.005761652712761942.\n"
     ]
    },
    {
     "name": "stdout",
     "output_type": "stream",
     "text": [
      "Early stopping\n",
      "Epoch 5/30 - Train Loss: 1.8347, Val Loss: 0.3473\n",
      "Epoch 10/30 - Train Loss: 0.2021, Val Loss: 0.1073\n",
      "Epoch 15/30 - Train Loss: 0.1804, Val Loss: 0.1041\n",
      "Epoch 20/30 - Train Loss: 0.1798, Val Loss: 0.1041\n",
      "Epoch 25/30 - Train Loss: 0.1803, Val Loss: 0.1041\n"
     ]
    },
    {
     "name": "stderr",
     "output_type": "stream",
     "text": [
      "[I 2025-03-21 23:40:49,041] Trial 1 finished with value: 0.005785478544162793 and parameters: {'optimizer': 'AdamW', 'latent_dim': 20, 'num_layers': 3, 'lr': 0.0001812150171779531, 'window_size': 41, 'dropout': 0.28760350700904685}. Best is trial 0 with value: 0.005761652712761942.\n"
     ]
    },
    {
     "name": "stdout",
     "output_type": "stream",
     "text": [
      "Epoch 30/30 - Train Loss: 0.1807, Val Loss: 0.1041\n",
      "Epoch 5/30 - Train Loss: 26.3571, Val Loss: 6.3742\n",
      "Epoch 10/30 - Train Loss: 26.2584, Val Loss: 6.3471\n",
      "Epoch 15/30 - Train Loss: 26.1519, Val Loss: 6.3202\n",
      "Epoch 20/30 - Train Loss: 26.0273, Val Loss: 6.2935\n",
      "Epoch 25/30 - Train Loss: 25.9150, Val Loss: 6.2669\n"
     ]
    },
    {
     "name": "stderr",
     "output_type": "stream",
     "text": [
      "[I 2025-03-21 23:42:00,481] Trial 2 finished with value: 0.3466973917351829 and parameters: {'optimizer': 'SGD', 'latent_dim': 47, 'num_layers': 3, 'lr': 0.00010257604097769711, 'window_size': 39, 'dropout': 0.2587136224511662}. Best is trial 0 with value: 0.005761652712761942.\n"
     ]
    },
    {
     "name": "stdout",
     "output_type": "stream",
     "text": [
      "Epoch 30/30 - Train Loss: 25.8093, Val Loss: 6.2406\n",
      "Epoch 5/30 - Train Loss: 25.2908, Val Loss: 6.1756\n",
      "Epoch 10/30 - Train Loss: 24.5542, Val Loss: 6.0015\n",
      "Epoch 15/30 - Train Loss: 23.9055, Val Loss: 5.8446\n",
      "Epoch 20/30 - Train Loss: 23.2446, Val Loss: 5.6833\n",
      "Epoch 25/30 - Train Loss: 22.5299, Val Loss: 5.5079\n"
     ]
    },
    {
     "name": "stderr",
     "output_type": "stream",
     "text": [
      "[I 2025-03-21 23:42:57,557] Trial 3 finished with value: 0.2951715621683333 and parameters: {'optimizer': 'SGD', 'latent_dim': 57, 'num_layers': 1, 'lr': 0.000289958501108919, 'window_size': 57, 'dropout': 0.07139336630583676}. Best is trial 0 with value: 0.005761652712761942.\n"
     ]
    },
    {
     "name": "stdout",
     "output_type": "stream",
     "text": [
      "Epoch 30/30 - Train Loss: 21.7311, Val Loss: 5.3131\n",
      "Epoch 5/30 - Train Loss: 0.1823, Val Loss: 0.1046\n",
      "Epoch 10/30 - Train Loss: 0.1847, Val Loss: 0.1044\n",
      "Epoch 15/30 - Train Loss: 0.1849, Val Loss: 0.1061\n"
     ]
    },
    {
     "name": "stderr",
     "output_type": "stream",
     "text": [
      "[I 2025-03-21 23:43:51,146] Trial 4 finished with value: 0.005809131401797963 and parameters: {'optimizer': 'Adam', 'latent_dim': 93, 'num_layers': 2, 'lr': 0.0004855141528088084, 'window_size': 39, 'dropout': 0.3705247185353807}. Best is trial 0 with value: 0.005761652712761942.\n"
     ]
    },
    {
     "name": "stdout",
     "output_type": "stream",
     "text": [
      "Early stopping\n",
      "Epoch 5/30 - Train Loss: 26.4159, Val Loss: 6.3811\n",
      "Epoch 10/30 - Train Loss: 26.1636, Val Loss: 6.3186\n",
      "Epoch 15/30 - Train Loss: 25.9141, Val Loss: 6.2586\n",
      "Epoch 20/30 - Train Loss: 25.6612, Val Loss: 6.2002\n",
      "Epoch 25/30 - Train Loss: 25.4330, Val Loss: 6.1439\n"
     ]
    },
    {
     "name": "stderr",
     "output_type": "stream",
     "text": [
      "[I 2025-03-21 23:44:33,761] Trial 5 finished with value: 0.3382914066314697 and parameters: {'optimizer': 'SGD', 'latent_dim': 42, 'num_layers': 2, 'lr': 0.0001867264564197032, 'window_size': 33, 'dropout': 0.26852495289244854}. Best is trial 0 with value: 0.005761652712761942.\n"
     ]
    },
    {
     "name": "stdout",
     "output_type": "stream",
     "text": [
      "Epoch 30/30 - Train Loss: 25.1993, Val Loss: 6.0892\n",
      "Epoch 5/30 - Train Loss: 26.1279, Val Loss: 6.3120\n",
      "Epoch 10/30 - Train Loss: 25.7602, Val Loss: 6.2220\n",
      "Epoch 15/30 - Train Loss: 25.3704, Val Loss: 6.1342\n",
      "Epoch 20/30 - Train Loss: 25.0174, Val Loss: 6.0489\n",
      "Epoch 25/30 - Train Loss: 24.6634, Val Loss: 5.9645\n"
     ]
    },
    {
     "name": "stderr",
     "output_type": "stream",
     "text": [
      "[I 2025-03-21 23:46:48,398] Trial 6 finished with value: 0.32663671175638836 and parameters: {'optimizer': 'SGD', 'latent_dim': 95, 'num_layers': 3, 'lr': 0.00029665516320796347, 'window_size': 44, 'dropout': 0.41558688747296046}. Best is trial 0 with value: 0.005761652712761942.\n"
     ]
    },
    {
     "name": "stdout",
     "output_type": "stream",
     "text": [
      "Epoch 30/30 - Train Loss: 24.3161, Val Loss: 5.8795\n",
      "Epoch 5/30 - Train Loss: 0.1790, Val Loss: 0.1068\n",
      "Epoch 10/30 - Train Loss: 0.1795, Val Loss: 0.1069\n",
      "Epoch 15/30 - Train Loss: 0.1794, Val Loss: 0.1057\n",
      "Epoch 20/30 - Train Loss: 0.1794, Val Loss: 0.1055\n",
      "Epoch 25/30 - Train Loss: 0.1797, Val Loss: 0.1053\n"
     ]
    },
    {
     "name": "stderr",
     "output_type": "stream",
     "text": [
      "[I 2025-03-21 23:48:21,867] Trial 7 finished with value: 0.005889734305027459 and parameters: {'optimizer': 'Adam', 'latent_dim': 100, 'num_layers': 1, 'lr': 0.00033109552793152684, 'window_size': 59, 'dropout': 0.2124887783621156}. Best is trial 0 with value: 0.005761652712761942.\n"
     ]
    },
    {
     "name": "stdout",
     "output_type": "stream",
     "text": [
      "Epoch 30/30 - Train Loss: 0.1798, Val Loss: 0.1060\n",
      "Epoch 5/30 - Train Loss: 0.1798, Val Loss: 0.1046\n",
      "Epoch 10/30 - Train Loss: 0.1822, Val Loss: 0.1069\n",
      "Epoch 15/30 - Train Loss: 0.1815, Val Loss: 0.1059\n"
     ]
    },
    {
     "name": "stderr",
     "output_type": "stream",
     "text": [
      "[I 2025-03-21 23:49:28,602] Trial 8 finished with value: 0.005832861585076898 and parameters: {'optimizer': 'RMSprop', 'latent_dim': 97, 'num_layers': 2, 'lr': 0.000195605416953233, 'window_size': 53, 'dropout': 0.10353957944258202}. Best is trial 0 with value: 0.005761652712761942.\n"
     ]
    },
    {
     "name": "stdout",
     "output_type": "stream",
     "text": [
      "Early stopping\n",
      "Epoch 5/30 - Train Loss: 26.3714, Val Loss: 6.3698\n",
      "Epoch 10/30 - Train Loss: 26.1216, Val Loss: 6.3108\n",
      "Epoch 15/30 - Train Loss: 25.8890, Val Loss: 6.2530\n",
      "Epoch 20/30 - Train Loss: 25.6340, Val Loss: 6.1956\n",
      "Epoch 25/30 - Train Loss: 25.3990, Val Loss: 6.1384\n"
     ]
    },
    {
     "name": "stderr",
     "output_type": "stream",
     "text": [
      "[I 2025-03-21 23:50:58,772] Trial 9 finished with value: 0.33785206576188404 and parameters: {'optimizer': 'SGD', 'latent_dim': 74, 'num_layers': 3, 'lr': 0.00021512383888401516, 'window_size': 38, 'dropout': 0.4779395951823077}. Best is trial 0 with value: 0.005761652712761942.\n"
     ]
    },
    {
     "name": "stdout",
     "output_type": "stream",
     "text": [
      "Epoch 30/30 - Train Loss: 25.1695, Val Loss: 6.0813\n",
      "Optimal hyperparameters: {'optimizer': 'AdamW', 'latent_dim': 71, 'num_layers': 2, 'lr': 0.0002895605714777007, 'window_size': 34, 'dropout': 0.11726802708287587}\n"
     ]
    }
   ],
   "source": [
    "num_features = df_scaled.shape[1]\n",
    "study = optuna.create_study(direction=\"minimize\") \n",
    "study.optimize(objective, n_trials=10) \n",
    "print(\"Optimal hyperparameters:\", study.best_params)"
   ]
  },
  {
   "cell_type": "markdown",
   "metadata": {},
   "source": [
    "**LSTM time series prediction function**\n",
    "\n",
    "1. Prediction function predict_sequence\n",
    "\n",
    "This function is used to predict the future time step based on the LSTM model, and supports the rolling window method to generate the sequence.\n",
    "\n",
    "2. Enter prediction mode\n",
    "\n",
    "Setting the model to evaluation mode\n",
    "\n",
    "3. Pre-processing of initial inputs\n",
    "\n",
    "Convert initial frames to PyTorch tensors and add batch dimensions to fit the model input format.\n",
    "\n",
    "4. Progressive projection of future values\n",
    "\n",
    "Step-by-step predicts num_steps future points in time and stores the predicted values.\n",
    "\n",
    "5. Scrolling window update\n",
    "\n",
    "The oldest frames are removed and new predictions are added to the input sequence to form a scrolling window.\n",
    "\n",
    "6. Return of projections\n",
    "\n",
    "Converts predictions into NumPy arrays to be returned for subsequent analysis or visualisation."
   ]
  },
  {
   "cell_type": "code",
   "execution_count": 10,
   "metadata": {
    "execution": {
     "iopub.execute_input": "2025-03-22T11:51:08.771761Z",
     "iopub.status.busy": "2025-03-22T11:51:08.771331Z",
     "iopub.status.idle": "2025-03-22T11:51:08.778312Z",
     "shell.execute_reply": "2025-03-22T11:51:08.777002Z",
     "shell.execute_reply.started": "2025-03-22T11:51:08.771730Z"
    }
   },
   "outputs": [],
   "source": [
    "def predict_sequence(model, initial_frames, num_steps=1):\n",
    "    model.eval()\n",
    "    preds = []\n",
    "    last_frames = torch.tensor(initial_frames, dtype=torch.float32).unsqueeze(0)\n",
    "\n",
    "    with torch.no_grad():\n",
    "        for _ in range(num_steps):\n",
    "            pred = model(last_frames) \n",
    "            preds.append(pred.item())\n",
    "            last_frames = torch.cat([last_frames[:, 1:, :], pred.unsqueeze(0)], dim=1)\n",
    "\n",
    "    return np.array(preds)"
   ]
  },
  {
   "cell_type": "markdown",
   "metadata": {},
   "source": [
    "**Initialising the LSTM model and data loading**\n",
    "\n",
    "1. Setting time windows and data loading\n",
    "\n",
    "Set window_size=55 for creating time series samples.\n",
    "\n",
    "get_data_loaders Generate training and validation dataset, batch_size=32.\n",
    "\n",
    "2. determine input feature dimensions\n",
    "\n",
    "Calculate the number of features in df_scaled as model input dimensions.\n",
    "\n",
    "3. Creating LSTM models\n",
    "\n",
    "input_dim=num_features: number of input dimension matching data features.\n",
    "\n",
    "latent_dim=38: LSTM latent dimensions.\n",
    "\n",
    "num_layers=2: stack 2 layers of LSTM.\n",
    "\n",
    "dropout=0.2: moderate use of dropout to prevent overfitting.\n",
    "\n",
    ".to(device): move the model to GPU or CPU."
   ]
  },
  {
   "cell_type": "code",
   "execution_count": 11,
   "metadata": {
    "execution": {
     "iopub.execute_input": "2025-03-22T11:51:11.032408Z",
     "iopub.status.busy": "2025-03-22T11:51:11.031975Z",
     "iopub.status.idle": "2025-03-22T11:51:11.072702Z",
     "shell.execute_reply": "2025-03-22T11:51:11.071569Z",
     "shell.execute_reply.started": "2025-03-22T11:51:11.032375Z"
    }
   },
   "outputs": [],
   "source": [
    "# num_features = df_scaled.shape[1]\n",
    "window_size = 55\n",
    "train_loader, val_loader = get_data_loaders(df_scaled, window_size=window_size, batch_size=32, train_ratio=0.8)\n",
    "num_features = df_scaled.shape[1]\n",
    "model = create_model(input_dim=num_features,\n",
    "    latent_dim=38,\n",
    "    output_dim=num_features,\n",
    "    num_layers=2,\n",
    "    dropout=0.2\n",
    ").to(device)"
   ]
  },
  {
   "cell_type": "markdown",
   "metadata": {},
   "source": [
    "**Training the LSTM model**\n",
    "\n",
    "1. Defining the optimiser\n",
    "\n",
    "Select AdamW as optimiser for LSTM training.\n",
    "\n",
    "lr=0.000166: Use a preset learning rate to improve training stability.\n",
    "\n",
    "2. Training Models\n",
    "\n",
    "Train the LSTM model for 50 rounds (epochs=50).\n",
    "\n",
    "Use train_loader and val_loader for training and validation.\n",
    "\n",
    "MSELoss is used to calculate the error and optimise it.\n",
    "\n",
    "The training process avoids overfitting."
   ]
  },
  {
   "cell_type": "code",
   "execution_count": 12,
   "metadata": {
    "execution": {
     "iopub.execute_input": "2025-03-22T11:51:14.646188Z",
     "iopub.status.busy": "2025-03-22T11:51:14.645767Z",
     "iopub.status.idle": "2025-03-22T11:53:29.775656Z",
     "shell.execute_reply": "2025-03-22T11:53:29.774597Z",
     "shell.execute_reply.started": "2025-03-22T11:51:14.646158Z"
    }
   },
   "outputs": [
    {
     "name": "stdout",
     "output_type": "stream",
     "text": [
      "Epoch 5/50 - Train Loss: 0.2259, Val Loss: 0.1064\n",
      "Epoch 10/50 - Train Loss: 0.1892, Val Loss: 0.1045\n",
      "Epoch 15/50 - Train Loss: 0.1851, Val Loss: 0.1042\n",
      "Epoch 20/50 - Train Loss: 0.1828, Val Loss: 0.1042\n",
      "Epoch 25/50 - Train Loss: 0.1819, Val Loss: 0.1042\n",
      "Epoch 30/50 - Train Loss: 0.1805, Val Loss: 0.1045\n",
      "Epoch 35/50 - Train Loss: 0.1801, Val Loss: 0.1042\n",
      "Epoch 40/50 - Train Loss: 0.1796, Val Loss: 0.1042\n",
      "Epoch 45/50 - Train Loss: 0.1792, Val Loss: 0.1043\n",
      "Early stopping\n"
     ]
    },
    {
     "data": {
      "text/plain": [
       "0.005790959112346172"
      ]
     },
     "execution_count": 12,
     "metadata": {},
     "output_type": "execute_result"
    }
   ],
   "source": [
    "optimizer = optim.AdamW(model.parameters(), lr=0.000166632024088649)\n",
    "\n",
    "train_model_on_sequences(model, train_loader, val_loader, optimizer,epochs=50)# optimizer,"
   ]
  },
  {
   "cell_type": "markdown",
   "metadata": {},
   "source": [
    "**Future Price Forecast for LSTM Models**\n",
    "\n",
    "1. Setting up the model as an assessment model\n",
    "\n",
    "2. Get data for the most recent window_size day.\n",
    "\n",
    "Extract the last 60 days of normalised data as input to the model.\n",
    "\n",
    "Convert to PyTorch tensor and add batch dimension.\n",
    "\n",
    "Move to the computing device to make sure it matches the model.\n",
    "\n",
    "3. Make predictions\n",
    "\n",
    "The latest 60 days of data are fed into the LSTM to generate future predictions.\n",
    "\n",
    "4. Reverse normalisation to restore true prices\n",
    "\n",
    "Convert back to a NumPy array to ensure format compatibility.\n",
    "\n",
    "Use scaler.inverse_transform to restore the true price for easy analysis."
   ]
  },
  {
   "cell_type": "code",
   "execution_count": 13,
   "metadata": {
    "execution": {
     "iopub.execute_input": "2025-03-22T11:55:28.511101Z",
     "iopub.status.busy": "2025-03-22T11:55:28.510356Z",
     "iopub.status.idle": "2025-03-22T11:55:28.527202Z",
     "shell.execute_reply": "2025-03-22T11:55:28.525879Z",
     "shell.execute_reply.started": "2025-03-22T11:55:28.511062Z"
    }
   },
   "outputs": [],
   "source": [
    "model.eval()\n",
    "with torch.no_grad():\n",
    "    last_60_days = df_scaled.iloc[-window_size:].values \n",
    "    last_60_days = torch.tensor(last_60_days, dtype=torch.float32).unsqueeze(0).to(device) \n",
    "\n",
    "    predicted_price = model(last_60_days) \n",
    "\n",
    "predicted_price = predicted_price.cpu().numpy().reshape(1, -1)\n",
    "predicted_price = scaler.inverse_transform(predicted_price)"
   ]
  },
  {
   "cell_type": "markdown",
   "metadata": {},
   "source": [
    "**Generate and save the submission file**\n",
    "\n",
    "1. Read the submission template\n",
    "\n",
    "Load the submission template file provided with the contest.\n",
    "\n",
    "2. Filling in projections\n",
    "\n",
    "Fill the value column with the predictions from the model.\n",
    "\n",
    "Use flatten() to ensure that the predictions are a one-dimensional array.\n",
    "\n",
    "3. Save as CSV file\n"
   ]
  },
  {
   "cell_type": "code",
   "execution_count": 14,
   "metadata": {
    "execution": {
     "iopub.execute_input": "2025-03-22T11:55:31.563634Z",
     "iopub.status.busy": "2025-03-22T11:55:31.563207Z",
     "iopub.status.idle": "2025-03-22T11:55:31.593898Z",
     "shell.execute_reply": "2025-03-22T11:55:31.592805Z",
     "shell.execute_reply.started": "2025-03-22T11:55:31.563605Z"
    }
   },
   "outputs": [
    {
     "name": "stdout",
     "output_type": "stream",
     "text": [
      "Submission file saved!\n"
     ]
    }
   ],
   "source": [
    "submission = pd.read_csv(\"/kaggle/input/playing-the-stock-market-is-a-fools-game/sample_submission.csv\")\n",
    "submission[\"value\"] = predicted_price.flatten()   \n",
    "submission.to_csv(\"submission.csv\", index=False)  \n",
    "print(\"Submission file saved!\")"
   ]
  },
  {
   "cell_type": "code",
   "execution_count": 16,
   "metadata": {
    "execution": {
     "iopub.execute_input": "2025-03-22T11:55:42.060161Z",
     "iopub.status.busy": "2025-03-22T11:55:42.059659Z",
     "iopub.status.idle": "2025-03-22T11:55:48.295045Z",
     "shell.execute_reply": "2025-03-22T11:55:48.293497Z",
     "shell.execute_reply.started": "2025-03-22T11:55:42.060126Z"
    }
   },
   "outputs": [
    {
     "name": "stdout",
     "output_type": "stream",
     "text": [
      "Processing /kaggle/input/captum/captum-0.7.0-py3-none-any.whl\n",
      "Requirement already satisfied: matplotlib in /usr/local/lib/python3.10/dist-packages (from captum==0.7.0) (3.7.5)\n",
      "Requirement already satisfied: numpy in /usr/local/lib/python3.10/dist-packages (from captum==0.7.0) (1.26.4)\n",
      "Requirement already satisfied: torch>=1.6 in /usr/local/lib/python3.10/dist-packages (from captum==0.7.0) (2.5.1+cu121)\n",
      "Requirement already satisfied: tqdm in /usr/local/lib/python3.10/dist-packages (from captum==0.7.0) (4.67.1)\n",
      "Requirement already satisfied: filelock in /usr/local/lib/python3.10/dist-packages (from torch>=1.6->captum==0.7.0) (3.17.0)\n",
      "Requirement already satisfied: typing-extensions>=4.8.0 in /usr/local/lib/python3.10/dist-packages (from torch>=1.6->captum==0.7.0) (4.12.2)\n",
      "Requirement already satisfied: networkx in /usr/local/lib/python3.10/dist-packages (from torch>=1.6->captum==0.7.0) (3.4.2)\n",
      "Requirement already satisfied: jinja2 in /usr/local/lib/python3.10/dist-packages (from torch>=1.6->captum==0.7.0) (3.1.4)\n",
      "Requirement already satisfied: fsspec in /usr/local/lib/python3.10/dist-packages (from torch>=1.6->captum==0.7.0) (2024.12.0)\n",
      "Requirement already satisfied: sympy==1.13.1 in /usr/local/lib/python3.10/dist-packages (from torch>=1.6->captum==0.7.0) (1.13.1)\n",
      "Requirement already satisfied: mpmath<1.4,>=1.1.0 in /usr/local/lib/python3.10/dist-packages (from sympy==1.13.1->torch>=1.6->captum==0.7.0) (1.3.0)\n",
      "Requirement already satisfied: contourpy>=1.0.1 in /usr/local/lib/python3.10/dist-packages (from matplotlib->captum==0.7.0) (1.3.1)\n",
      "Requirement already satisfied: cycler>=0.10 in /usr/local/lib/python3.10/dist-packages (from matplotlib->captum==0.7.0) (0.12.1)\n",
      "Requirement already satisfied: fonttools>=4.22.0 in /usr/local/lib/python3.10/dist-packages (from matplotlib->captum==0.7.0) (4.55.3)\n",
      "Requirement already satisfied: kiwisolver>=1.0.1 in /usr/local/lib/python3.10/dist-packages (from matplotlib->captum==0.7.0) (1.4.7)\n",
      "Requirement already satisfied: packaging>=20.0 in /usr/local/lib/python3.10/dist-packages (from matplotlib->captum==0.7.0) (24.2)\n",
      "Requirement already satisfied: pillow>=6.2.0 in /usr/local/lib/python3.10/dist-packages (from matplotlib->captum==0.7.0) (11.0.0)\n",
      "Requirement already satisfied: pyparsing>=2.3.1 in /usr/local/lib/python3.10/dist-packages (from matplotlib->captum==0.7.0) (3.2.0)\n",
      "Requirement already satisfied: python-dateutil>=2.7 in /usr/local/lib/python3.10/dist-packages (from matplotlib->captum==0.7.0) (2.9.0.post0)\n",
      "Requirement already satisfied: mkl_fft in /usr/local/lib/python3.10/dist-packages (from numpy->captum==0.7.0) (1.3.8)\n",
      "Requirement already satisfied: mkl_random in /usr/local/lib/python3.10/dist-packages (from numpy->captum==0.7.0) (1.2.4)\n",
      "Requirement already satisfied: mkl_umath in /usr/local/lib/python3.10/dist-packages (from numpy->captum==0.7.0) (0.1.1)\n",
      "Requirement already satisfied: mkl in /usr/local/lib/python3.10/dist-packages (from numpy->captum==0.7.0) (2025.0.1)\n",
      "Requirement already satisfied: tbb4py in /usr/local/lib/python3.10/dist-packages (from numpy->captum==0.7.0) (2022.0.0)\n",
      "Requirement already satisfied: mkl-service in /usr/local/lib/python3.10/dist-packages (from numpy->captum==0.7.0) (2.4.1)\n",
      "Requirement already satisfied: six>=1.5 in /usr/local/lib/python3.10/dist-packages (from python-dateutil>=2.7->matplotlib->captum==0.7.0) (1.17.0)\n",
      "Requirement already satisfied: MarkupSafe>=2.0 in /usr/local/lib/python3.10/dist-packages (from jinja2->torch>=1.6->captum==0.7.0) (3.0.2)\n",
      "Requirement already satisfied: intel-openmp>=2024 in /usr/local/lib/python3.10/dist-packages (from mkl->numpy->captum==0.7.0) (2024.2.0)\n",
      "Requirement already satisfied: tbb==2022.* in /usr/local/lib/python3.10/dist-packages (from mkl->numpy->captum==0.7.0) (2022.0.0)\n",
      "Requirement already satisfied: tcmlib==1.* in /usr/local/lib/python3.10/dist-packages (from tbb==2022.*->mkl->numpy->captum==0.7.0) (1.2.0)\n",
      "Requirement already satisfied: intel-cmplr-lib-rt in /usr/local/lib/python3.10/dist-packages (from mkl_umath->numpy->captum==0.7.0) (2024.2.0)\n",
      "Requirement already satisfied: intel-cmplr-lib-ur==2024.2.0 in /usr/local/lib/python3.10/dist-packages (from intel-openmp>=2024->mkl->numpy->captum==0.7.0) (2024.2.0)\n",
      "Installing collected packages: captum\n",
      "Successfully installed captum-0.7.0\n"
     ]
    }
   ],
   "source": [
    "!pip install /kaggle/input/captum/captum-0.7.0-py3-none-any.whl"
   ]
  },
  {
   "cell_type": "markdown",
   "metadata": {},
   "source": [
    "**interpretation of your model using Captum**\n",
    "\n",
    "1. Getting Sample Inputs\n",
    "\n",
    "Take a sample from the validation set and add the batch dimension.\n",
    "\n",
    "2. Initialising the interpreter\n",
    "\n",
    "Use IntegratedGradients in Captum as an interpreter to interpret the model's response to the input.\n",
    "\n",
    "3. Calculation of attribution of characteristics\n",
    "\n",
    "The contribution of the model to each input feature (attribution value) is calculated.\n",
    "\n",
    "target=0 indicates that the first output dimension is interpreted.\n",
    "\n",
    "delta is used to measure the degree of convergence of the imputation.\n",
    "\n",
    "4. Visual identity contributions\n",
    "Use imshow to draw a 2D attribution plot showing the strength of contribution for each time step, for each feature.\n",
    "\n",
    "The horizontal axis represents the feature dimension and the vertical axis represents the time step.\n",
    "\n",
    "The darker the colour, the greater the influence of the feature on the prediction.\n",
    "\n"
   ]
  },
  {
   "cell_type": "code",
   "execution_count": 17,
   "metadata": {
    "execution": {
     "iopub.execute_input": "2025-03-22T11:55:51.462010Z",
     "iopub.status.busy": "2025-03-22T11:55:51.461561Z",
     "iopub.status.idle": "2025-03-22T11:55:52.220977Z",
     "shell.execute_reply": "2025-03-22T11:55:52.219680Z",
     "shell.execute_reply.started": "2025-03-22T11:55:51.461975Z"
    }
   },
   "outputs": [
    {
     "data": {
      "image/png": "[encoded data removed]",
      "text/plain": [
       "<Figure size 1200x480 with 2 Axes>"
      ]
     },
     "metadata": {},
     "output_type": "display_data"
    }
   ],
   "source": [
    "from captum.attr import IntegratedGradients\n",
    "\n",
    "sample_input, _ = val_dataset[0]\n",
    "sample_input = sample_input.unsqueeze(0).to(device) \n",
    "\n",
    "ig = IntegratedGradients(model)\n",
    "attributions, delta = ig.attribute(sample_input, target=0, return_convergence_delta=True)\n",
    "attributions = attributions.cpu().detach().numpy().squeeze()\n",
    "plt.figure(figsize=(10, 4))\n",
    "plt.imshow(attributions, aspect=\"auto\", cmap=\"viridis\")\n",
    "plt.colorbar()\n",
    "plt.xlabel(\"characteristic index\")\n",
    "plt.ylabel(\"time step\")\n",
    "plt.title(\"Integrated Gradients Characteristic contribution\")\n",
    "plt.show()\n"
   ]
  },
  {
   "cell_type": "markdown",
   "metadata": {},
   "source": [
    "**Image Description**\n",
    "\n",
    "Horizontal axis (characteristic index): represents the index number of the feature, 440+ features in total.\n",
    "\n",
    "Vertical axis (time step): represents each time point in the input time window (60 steps in total).\n",
    "\n",
    "Colour intensity: indicates the contribution of the feature to the model prediction at that point in time:\n",
    "\n",
    "Yellow: positive high contribution\n",
    "    \n",
    "Green/blue: medium or small contribution\n",
    "    \n",
    "Purple: negative or no contribution\n",
    "\n",
    "Based on the visualisation results, we can draw the following conclusions:\n",
    "\n",
    "By looking at the heat map, the following interpretations can be made:\n",
    "\n",
    "1. Later time windows are more critical\n",
    "\n",
    "The colours are more active near the bottom of the graph (later time steps), indicating that the model is more focused on recent information. This is in line with the common sense of time series forecasting: the more recent the point in time, the more important it is for future forecasting.\n",
    "\n",
    "2. Few features dominate the forecast\n",
    "\n",
    "Only some of the feature dimensions show distinct colours in the heatmap, suggesting that the model does not make use of all features equally, but automatically focuses on the more relevant inputs.\n",
    "\n",
    "3. Overall contribution is small but well distributed\n",
    "\n",
    "The contribution values are mainly concentrated in the range of [-0.0008, 0.0006]. Although the values are small, there is a certain pattern in the time and feature dimensions, indicating that the model has interpretability.\n"
   ]
  },
  {
   "cell_type": "code",
   "execution_count": 6,
   "metadata": {},
   "outputs": [
    {
     "name": "stdout",
     "output_type": "stream",
     "text": [
      "已重新初始化已存在的 Git 仓库于 /Users/ryan/deep_learning/.git/\n",
      "错误：远程 origin 已经存在。\n",
      "[master 24ef699] Initial commit: add project structure and README\n",
      " 1 file changed, 7 insertions(+), 51 deletions(-)\n",
      "Username for 'https://github.com': ^C\n"
     ]
    }
   ],
   "source": [
    "!git init\n",
    "\n",
    "# 3. 添加远程仓库（替换成你的 GitHub 仓库地址）\n",
    "!git remote add origin https://github.com/ryan856666/Stock-Price-Prediction-with-LSTM\n",
    "\n",
    "# 4. 把所有文件加入暂存区\n",
    "!git add .\n",
    "\n",
    "# 5. 提交\n",
    "!git commit -m \"Initial commit: add project structure and README\"\n",
    "\n",
    "# 6. 推送到 GitHub（如果远程分支是 main，用 main；若是 master，则替换为 master）\n",
    "# 重命名当前分支为 main\n",
    "!git branch -M main\n",
    "# 再次推送，并设置上游为 origin/main\n",
    "!git push -u origin main\n",
    "\n"
   ]
  },
  {
   "cell_type": "code",
   "execution_count": 7,
   "metadata": {},
   "outputs": [
    {
     "name": "stdout",
     "output_type": "stream",
     "text": [
      "D2L_Lab_Report-2.ipynb           dl_coursework.ipynb\n",
      "D2L_Lab_Report-3.ipynb           final.ipynb\n",
      "D2L_Lab_Report.ipynb             final_download.ipynb\n",
      "D2L_Lab_Report_my_version.ipynb  notebook5d33c89f01.ipynb\n",
      "Untitled.ipynb                   sample_submission.csv\n",
      "coursework.ipynb                 train.csv\n",
      "coursework7.ipynb\n"
     ]
    }
   ],
   "source": [
    "# 显示当前工作目录\n",
    "%pwd\n",
    "\n",
    "# 列出目录下的文件\n",
    "%ls\n"
   ]
  },
  {
   "cell_type": "code",
   "execution_count": null,
   "metadata": {},
   "outputs": [],
   "source": []
  }
 ],
 "metadata": {
  "kaggle": {
   "accelerator": "none",
   "dataSources": [
    {
     "databundleVersionId": 11225872,
     "sourceId": 94345,
     "sourceType": "competition"
    },
    {
     "datasetId": 6923305,
     "sourceId": 11105410,
     "sourceType": "datasetVersion"
    },
    {
     "datasetId": 6932966,
     "sourceId": 11118441,
     "sourceType": "datasetVersion"
    }
   ],
   "dockerImageVersionId": 30918,
   "isGpuEnabled": false,
   "isInternetEnabled": false,
   "language": "python",
   "sourceType": "notebook"
  },
  "kernelspec": {
   "display_name": "Python 3 (ipykernel)",
   "language": "python",
   "name": "python3"
  },
  "language_info": {
   "codemirror_mode": {
    "name": "ipython",
    "version": 3
   },
   "file_extension": ".py",
   "mimetype": "text/x-python",
   "name": "python",
   "nbconvert_exporter": "python",
   "pygments_lexer": "ipython3",
   "version": "3.12.4"
  }
 },
 "nbformat": 4,
 "nbformat_minor": 4
}
